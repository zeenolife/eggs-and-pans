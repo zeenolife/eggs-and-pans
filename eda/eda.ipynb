{
 "cells": [
  {
   "cell_type": "code",
   "execution_count": 1,
   "metadata": {},
   "outputs": [],
   "source": [
    "import os\n",
    "import numpy as np\n",
    "import cv2\n",
    "import matplotlib.pyplot as plt\n",
    "\n",
    "from tqdm import tqdm"
   ]
  },
  {
   "cell_type": "code",
   "execution_count": 2,
   "metadata": {},
   "outputs": [],
   "source": [
    "dataset_dir = '../dataset/'"
   ]
  },
  {
   "cell_type": "code",
   "execution_count": 3,
   "metadata": {},
   "outputs": [],
   "source": [
    "image_names = os.listdir(os.path.join(dataset_dir, 'train', 'images'))\n",
    "mask_names = os.listdir(os.path.join(dataset_dir, 'train', 'masks'))\n",
    "assert set(image_names) == set(mask_names), 'Image names do not match mask names'\n",
    "names = [name for name in image_names if name.endswith(('.jpg', '.JPG', '.png'))]"
   ]
  },
  {
   "cell_type": "code",
   "execution_count": 4,
   "metadata": {},
   "outputs": [
    {
     "name": "stderr",
     "output_type": "stream",
     "text": [
      "100%|██████████| 398/398 [00:13<00:00, 28.95it/s]\n"
     ]
    }
   ],
   "source": [
    "image_shapes = {}\n",
    "pixel_values = {}\n",
    "for name in tqdm(names):\n",
    "    img = cv2.imread(os.path.join(dataset_dir, 'train', 'images', name))\n",
    "    mask = cv2.imread(os.path.join(dataset_dir, 'train', 'masks', name))\n",
    "    mask = cv2.cvtColor(mask, cv2.COLOR_BGR2GRAY)\n",
    "    \n",
    "    assert img.shape[:2] == mask.shape[:2], 'Image shape {} does not match mask shape {}'.format(img.shape, mask.shape)\n",
    "    \n",
    "    # Get image shape distribution\n",
    "    if img.shape not in image_shapes:\n",
    "        image_shapes[img.shape] = 1\n",
    "    else:\n",
    "        image_shapes[img.shape] += 1\n",
    "    \n",
    "    # Get pixel value distribution\n",
    "    uniques, counts = np.unique(mask, return_counts=True)\n",
    "    for pixel_value, count in zip(uniques, counts):\n",
    "        if pixel_value not in pixel_values:\n",
    "            pixel_values[pixel_value] = count\n",
    "        else:\n",
    "            pixel_values[pixel_value] += count"
   ]
  },
  {
   "cell_type": "code",
   "execution_count": 5,
   "metadata": {},
   "outputs": [
    {
     "name": "stdout",
     "output_type": "stream",
     "text": [
      "Shape:    480      640 | Aspect ratio:       1.33 | Count:   131 | To square: 160\n",
      "Shape:    256      456 | Aspect ratio:       1.78 | Count:    72 | To square: 200\n",
      "Shape:    720     1280 | Aspect ratio:       1.78 | Count:    84 | To square: 560\n",
      "Shape:    612      816 | Aspect ratio:       1.33 | Count:    40 | To square: 204\n",
      "Shape:   2448     3264 | Aspect ratio:       1.33 | Count:    17 | To square: 816\n",
      "Shape:   1920     1080 | Aspect ratio:       0.56 | Count:    25 | To square: 840\n",
      "Shape:   2432     4320 | Aspect ratio:       1.78 | Count:    10 | To square: 1888\n",
      "Shape:   2048     2048 | Aspect ratio:       1.00 | Count:     4 | To square: 0\n",
      "Shape:    750     2048 | Aspect ratio:       2.73 | Count:    15 | To square: 1298\n"
     ]
    }
   ],
   "source": [
    "for shape, count in image_shapes.items():\n",
    "    print('Shape: {:6} {:8} | Aspect ratio: {:10.2f} | Count: {:5} | To square: {}'.format(shape[0], shape[1], shape[1] / shape[0], count, max(shape) - min(shape[:2])))"
   ]
  },
  {
   "cell_type": "code",
   "execution_count": 6,
   "metadata": {},
   "outputs": [
    {
     "name": "stdout",
     "output_type": "stream",
     "text": [
      "  0 - 91.1513%\n",
      "  1 - 0.0265%\n",
      "  2 - 0.0166%\n",
      "  3 - 0.0079%\n",
      "  4 - 0.0031%\n",
      "  5 - 0.0013%\n",
      "  6 - 0.0003%\n",
      "  7 - 0.0002%\n",
      "  8 - 0.0000%\n",
      " 10 - 0.0000%\n",
      "120 - 0.0000%\n",
      "121 - 0.0002%\n",
      "122 - 0.0003%\n",
      "123 - 0.0012%\n",
      "124 - 0.0028%\n",
      "125 - 0.0072%\n",
      "126 - 0.0151%\n",
      "127 - 0.0240%\n",
      "128 - 6.7967%\n",
      "129 - 0.0251%\n",
      "130 - 0.0148%\n",
      "131 - 0.0079%\n",
      "132 - 0.0031%\n",
      "133 - 0.0011%\n",
      "134 - 0.0002%\n",
      "135 - 0.0000%\n",
      "136 - 0.0000%\n",
      "137 - 0.0000%\n",
      "170 - 0.0027%\n",
      "246 - 0.0000%\n",
      "248 - 0.0000%\n",
      "249 - 0.0000%\n",
      "250 - 0.0001%\n",
      "251 - 0.0001%\n",
      "252 - 0.0004%\n",
      "253 - 0.0008%\n",
      "254 - 0.0014%\n",
      "255 - 1.8875%\n"
     ]
    }
   ],
   "source": [
    "total_pixels = 0\n",
    "values_list = []\n",
    "for pixel_value, count in pixel_values.items():\n",
    "    total_pixels += count\n",
    "    values_list.append(pixel_value)\n",
    "\n",
    "values_list.sort()\n",
    "for pixel_value in values_list:\n",
    "    print('{:3} - {:.4f}%'.format(pixel_value, pixel_values[pixel_value] / total_pixels * 100))"
   ]
  },
  {
   "cell_type": "code",
   "execution_count": 7,
   "metadata": {},
   "outputs": [
    {
     "name": "stdout",
     "output_type": "stream",
     "text": [
      "background - 91.2072%\n",
      "egg - 6.9024%\n",
      "pan - 1.8904%\n"
     ]
    }
   ],
   "source": [
    "thresholded = {'background': 0.0,\n",
    "              'egg': 0.0,\n",
    "              'pan': 0.0\n",
    "              }\n",
    "for pixel_value in values_list:\n",
    "    \n",
    "    if pixel_value <= 64:\n",
    "        thresholded['background'] += pixel_values[pixel_value] / total_pixels * 100\n",
    "    elif pixel_value <= 192:\n",
    "        thresholded['egg'] += pixel_values[pixel_value] / total_pixels * 100\n",
    "    else:\n",
    "        thresholded['pan'] += pixel_values[pixel_value] / total_pixels * 100\n",
    "\n",
    "for cls, ratio in thresholded.items():\n",
    "    print('{:3} - {:.4f}%'.format(cls, ratio))"
   ]
  },
  {
   "cell_type": "code",
   "execution_count": 44,
   "metadata": {},
   "outputs": [],
   "source": [
    "image_names = os.listdir(os.path.join(dataset_dir, 'test', 'images'))\n",
    "names = [name for name in image_names if name.endswith(('.jpg', '.JPG', '.png'))]"
   ]
  },
  {
   "cell_type": "code",
   "execution_count": 45,
   "metadata": {},
   "outputs": [
    {
     "name": "stderr",
     "output_type": "stream",
     "text": [
      "100%|██████████| 102/102 [00:01<00:00, 72.84it/s]\n"
     ]
    }
   ],
   "source": [
    "image_shapes = {}\n",
    "for name in tqdm(names):\n",
    "    img = cv2.imread(os.path.join(dataset_dir, 'test', 'images', name))\n",
    "    \n",
    "    # Get image shape distribution\n",
    "    if img.shape not in image_shapes:\n",
    "        image_shapes[img.shape] = 1\n",
    "    else:\n",
    "        image_shapes[img.shape] += 1"
   ]
  },
  {
   "cell_type": "code",
   "execution_count": 46,
   "metadata": {},
   "outputs": [
    {
     "name": "stdout",
     "output_type": "stream",
     "text": [
      "Shape:   2048     2048 | Aspect ratio:       1.00 | Count:     3 | To square: 0\n",
      "Shape:    256      456 | Aspect ratio:       1.78 | Count:    28 | To square: 200\n",
      "Shape:    480      640 | Aspect ratio:       1.33 | Count:    36 | To square: 160\n",
      "Shape:    612      816 | Aspect ratio:       1.33 | Count:    10 | To square: 204\n",
      "Shape:   2432     4320 | Aspect ratio:       1.78 | Count:     4 | To square: 1888\n",
      "Shape:   1920     1080 | Aspect ratio:       0.56 | Count:     3 | To square: 840\n",
      "Shape:    720     1280 | Aspect ratio:       1.78 | Count:    10 | To square: 560\n",
      "Shape:   2448     3264 | Aspect ratio:       1.33 | Count:     3 | To square: 816\n",
      "Shape:    750     2048 | Aspect ratio:       2.73 | Count:     5 | To square: 1298\n"
     ]
    }
   ],
   "source": [
    "for shape, count in image_shapes.items():\n",
    "    print('Shape: {:6} {:8} | Aspect ratio: {:10.2f} | Count: {:5} | To square: {}'.format(shape[0], shape[1], shape[1] / shape[0], count, max(shape) - min(shape[:2])))"
   ]
  },
  {
   "cell_type": "code",
   "execution_count": null,
   "metadata": {},
   "outputs": [],
   "source": []
  }
 ],
 "metadata": {
  "kernelspec": {
   "display_name": "Python 3",
   "language": "python",
   "name": "python3"
  },
  "language_info": {
   "codemirror_mode": {
    "name": "ipython",
    "version": 3
   },
   "file_extension": ".py",
   "mimetype": "text/x-python",
   "name": "python",
   "nbconvert_exporter": "python",
   "pygments_lexer": "ipython3",
   "version": "3.7.3"
  }
 },
 "nbformat": 4,
 "nbformat_minor": 2
}
